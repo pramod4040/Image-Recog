{
  "nbformat": 4,
  "nbformat_minor": 0,
  "metadata": {
    "colab": {
      "name": "image_conv2d_learning.ipynb",
      "provenance": [],
      "toc_visible": true
    },
    "kernelspec": {
      "name": "python3",
      "display_name": "Python 3"
    }
  },
  "cells": [
    {
      "cell_type": "code",
      "metadata": {
        "id": "cSRbw9JMOvGZ",
        "colab_type": "code",
        "colab": {}
      },
      "source": [
        "%tensorflow_version 2.x\n",
        "import tensorflow as tf\n",
        "import numpy as np\n",
        "from tensorflow.keras import Sequential\n",
        "from tensorflow.keras.layers import Dense, Conv2D, LSTM, Dropout, MaxPool2D, Activation, Flatten\n",
        "from sklearn.preprocessing import OneHotEncoder\n",
        "import matplotlib.pyplot as plt\n",
        "import h5py\n"
      ],
      "execution_count": 0,
      "outputs": []
    },
    {
      "cell_type": "code",
      "metadata": {
        "id": "NW_cQu6AO-RF",
        "colab_type": "code",
        "colab": {}
      },
      "source": [
        "data = np.load(\"/content/drive/My Drive/Data Set/dataset.npz\")"
      ],
      "execution_count": 0,
      "outputs": []
    },
    {
      "cell_type": "code",
      "metadata": {
        "id": "jagN7hAwRQxZ",
        "colab_type": "code",
        "outputId": "4357dbb2-3c93-4ebe-8ef6-bf4774333628",
        "colab": {
          "base_uri": "https://localhost:8080/",
          "height": 54
        }
      },
      "source": [
        "data_train = data['arr_0']\n",
        "label_train = data['arr_1']\n",
        "data_test = data['arr_2']\n",
        "label_test = data['arr_3']\n",
        "\n",
        "# np.random.seed(34)\n",
        "# np.random.shuffle(data_train)\n",
        "# np.random.shuffle(label_test)\n",
        "\n",
        "\n",
        "# X = data_train[0:100,:,:]\n",
        "# y = label_train[0:100]\n",
        "new_x = np.expand_dims(data_train, axis=3)\n",
        "print(new_x.shape)\n",
        "\n",
        "#preparing output data\n",
        "\n",
        "label_y = np.expand_dims(label_train, axis=1)\n",
        "enc = OneHotEncoder()\n",
        "enc.fit(label_y)\n",
        "new_y = enc.transform(label_y).toarray()\n",
        "print(new_y.shape)\n",
        "\n",
        "\n",
        "\n",
        "## Generating new Data using random\n",
        "\n",
        "# rng = np.random.default_rng(seed=40)\n",
        "# new_x = rng.choice(data_train, 600)\n",
        "# new_x = np.expand_dims(new_x, axis=3)\n",
        "# print(\"Data from traning....\")\n",
        "# new_x.shape\n"
      ],
      "execution_count": 0,
      "outputs": [
        {
          "output_type": "stream",
          "text": [
            "(78200, 32, 32, 1)\n",
            "(78200, 46)\n"
          ],
          "name": "stdout"
        }
      ]
    },
    {
      "cell_type": "code",
      "metadata": {
        "id": "Q2Wt1OpA1JB7",
        "colab_type": "code",
        "colab": {}
      },
      "source": [
        "# n_label = np.expand_dims(label_train, axis=1)\n",
        "# # print(n_label)\n",
        "# new_kk = np.append(data_train, n_label, axis=2)\n",
        "# new_kk.shape\n"
      ],
      "execution_count": 0,
      "outputs": []
    },
    {
      "cell_type": "code",
      "metadata": {
        "id": "2Xts4-NhXuo6",
        "colab_type": "code",
        "colab": {}
      },
      "source": [
        "\n",
        "\n",
        "def create_model():\n",
        "  model = Sequential()\n",
        "  model.add(Conv2D(64, kernel_size=3, padding=\"same\", activation='relu', input_shape=(32,32,1)))\n",
        "  model.add(Conv2D(32, padding=\"same\", kernel_size=2, activation='relu'))\n",
        "  model.add(MaxPool2D((2,2)))\n",
        "  model.add(Dropout(0.2))\n",
        "  model.add(Flatten())\n",
        "  model.add(Dense(46, activation='softmax'))\n",
        "  return model\n",
        "\n",
        "\n",
        "\n",
        "\n",
        "\n"
      ],
      "execution_count": 0,
      "outputs": []
    },
    {
      "cell_type": "code",
      "metadata": {
        "id": "P2_wq42ea_Oi",
        "colab_type": "code",
        "outputId": "fe1dd993-d621-4a16-b968-8e24dfb250a5",
        "colab": {
          "base_uri": "https://localhost:8080/",
          "height": 381
        }
      },
      "source": [
        "model = create_model()\n",
        "model.summary()\n",
        "model.compile(loss='categorical_crossentropy', optimizer='adam', metrics=['accuracy'])\n"
      ],
      "execution_count": 0,
      "outputs": [
        {
          "output_type": "stream",
          "text": [
            "Model: \"sequential_5\"\n",
            "_________________________________________________________________\n",
            "Layer (type)                 Output Shape              Param #   \n",
            "=================================================================\n",
            "conv2d_14 (Conv2D)           (None, 32, 32, 64)        640       \n",
            "_________________________________________________________________\n",
            "conv2d_15 (Conv2D)           (None, 32, 32, 32)        8224      \n",
            "_________________________________________________________________\n",
            "max_pooling2d_10 (MaxPooling (None, 16, 16, 32)        0         \n",
            "_________________________________________________________________\n",
            "dropout_9 (Dropout)          (None, 16, 16, 32)        0         \n",
            "_________________________________________________________________\n",
            "flatten_5 (Flatten)          (None, 8192)              0         \n",
            "_________________________________________________________________\n",
            "dense_7 (Dense)              (None, 46)                376878    \n",
            "=================================================================\n",
            "Total params: 385,742\n",
            "Trainable params: 385,742\n",
            "Non-trainable params: 0\n",
            "_________________________________________________________________\n"
          ],
          "name": "stdout"
        }
      ]
    },
    {
      "cell_type": "code",
      "metadata": {
        "id": "ue9gMD_CcBaO",
        "colab_type": "code",
        "outputId": "a1714f2c-c18d-481f-82ea-c734e4296467",
        "colab": {
          "base_uri": "https://localhost:8080/",
          "height": 181
        }
      },
      "source": [
        "model.fit(new_x, new_y, epochs=4, batch_size=100, verbose=1)\n",
        "# print(X.shape)"
      ],
      "execution_count": 0,
      "outputs": [
        {
          "output_type": "stream",
          "text": [
            "Epoch 1/4\n",
            "782/782 [==============================] - 187s 239ms/step - loss: 0.9851 - accuracy: 0.8156\n",
            "Epoch 2/4\n",
            "782/782 [==============================] - 187s 239ms/step - loss: 0.2481 - accuracy: 0.9253\n",
            "Epoch 3/4\n",
            "782/782 [==============================] - 191s 245ms/step - loss: 0.1828 - accuracy: 0.9445\n",
            "Epoch 4/4\n",
            "782/782 [==============================] - 187s 239ms/step - loss: 0.1387 - accuracy: 0.9558\n"
          ],
          "name": "stdout"
        },
        {
          "output_type": "execute_result",
          "data": {
            "text/plain": [
              "<tensorflow.python.keras.callbacks.History at 0x7fd267405978>"
            ]
          },
          "metadata": {
            "tags": []
          },
          "execution_count": 77
        }
      ]
    },
    {
      "cell_type": "code",
      "metadata": {
        "id": "4DdriDNo4jdZ",
        "colab_type": "code",
        "colab": {}
      },
      "source": [
        "tt_train = data_test[3000:3100,:,:]\n",
        "tt_train = np.expand_dims(tt_train, axis=3)\n",
        "tt_train.shape\n",
        "\n",
        "result = model.predict(tt_train)"
      ],
      "execution_count": 0,
      "outputs": []
    },
    {
      "cell_type": "code",
      "metadata": {
        "id": "3sYpauSRW5OW",
        "colab_type": "code",
        "outputId": "97f6d59d-c5de-438e-e99a-0b6f8622727d",
        "colab": {
          "base_uri": "https://localhost:8080/",
          "height": 266
        }
      },
      "source": [
        "x = data_test[3000,:,:]\n",
        "# print(x.dtype)\n",
        "ccc = x.astype(\"float32\") * 255\n",
        "plt.imshow(ccc)\n",
        "plt.show()"
      ],
      "execution_count": 0,
      "outputs": [
        {
          "output_type": "display_data",
          "data": {
            "image/png": "[encoded data removed]",
            "text/plain": [
              "<Figure size 432x288 with 1 Axes>"
            ]
          },
          "metadata": {
            "tags": [],
            "needs_background": "light"
          }
        }
      ]
    },
    {
      "cell_type": "code",
      "metadata": {
        "id": "HuliE9VgLgb6",
        "colab_type": "code",
        "outputId": "84e60856-e8be-4e54-892f-15dd245b6cea",
        "colab": {
          "base_uri": "https://localhost:8080/",
          "height": 146
        }
      },
      "source": [
        "# cata = [i for i in range(0,46)]\n",
        "# l_result = dict(zip(cata, cata))\n",
        "res = np.argmax(result, axis=1)\n",
        "print([i+1 for i in res])\n",
        "print(label_test[3000:3100])\n"
      ],
      "execution_count": 0,
      "outputs": [
        {
          "output_type": "stream",
          "text": [
            "[41, 41, 41, 41, 41, 41, 41, 41, 41, 41, 41, 41, 41, 41, 41, 41, 41, 41, 41, 41, 41, 41, 41, 41, 41, 41, 41, 41, 41, 41, 41, 41, 41, 41, 41, 41, 41, 41, 41, 41, 41, 41, 41, 29, 41, 41, 41, 41, 41, 41, 41, 41, 41, 41, 41, 41, 41, 41, 41, 41, 41, 41, 41, 41, 12, 41, 41, 41, 41, 41, 41, 41, 41, 41, 41, 41, 41, 41, 41, 41, 41, 41, 41, 41, 41, 41, 41, 41, 41, 41, 41, 41, 41, 41, 41, 41, 41, 41, 41, 41]\n",
            "[41 41 41 41 41 41 41 41 41 41 41 41 41 41 41 41 41 41 41 41 41 41 41 41\n",
            " 41 41 41 41 41 41 41 41 41 41 41 41 41 41 41 41 41 41 41 41 41 41 41 41\n",
            " 41 41 41 41 41 41 41 41 41 41 41 41 41 41 41 41 41 41 41 41 41 41 41 41\n",
            " 41 41 41 41 41 41 41 41 41 41 41 41 41 41 41 41 41 41 41 41 41 41 41 41\n",
            " 41 41 41 41]\n"
          ],
          "name": "stdout"
        }
      ]
    },
    {
      "cell_type": "code",
      "metadata": {
        "id": "fB0VvjHkLz5c",
        "colab_type": "code",
        "outputId": "49d1ecb3-db32-4df8-bb7b-c4181a9a9688",
        "colab": {
          "base_uri": "https://localhost:8080/",
          "height": 54
        }
      },
      "source": [
        "#prepare Testing data\n",
        "x_test = np.expand_dims(data_test, axis=3)\n",
        "y_test = np.expand_dims(label_test, axis=1)\n",
        "\n",
        "enc1 = OneHotEncoder()\n",
        "enc1.fit(y_test)\n",
        "y_test = enc1.transform(y_test).toarray()\n",
        "\n",
        "\n",
        "result = model.evaluate(x_test, y_test, batch_size=120)\n",
        "print(result)"
      ],
      "execution_count": 0,
      "outputs": [
        {
          "output_type": "stream",
          "text": [
            "115/115 [==============================] - 7s 62ms/step - loss: 0.2097 - accuracy: 0.9428\n",
            "[0.20971420407295227, 0.9428260922431946]\n"
          ],
          "name": "stdout"
        }
      ]
    },
    {
      "cell_type": "code",
      "metadata": {
        "id": "-SRTn_RxOokU",
        "colab_type": "code",
        "outputId": "29184f6e-3bf6-4021-c799-199c9750abdc",
        "colab": {
          "base_uri": "https://localhost:8080/",
          "height": 35
        }
      },
      "source": [
        "r_kha= cv2.imread(\"/content/drive/My Drive/Data Set/r_kha.png\")\n",
        "# kha.shape\n",
        "kha_32 = cv2.resize(r_kha, (32,32))\n",
        "k_gray = cv2.cvtColor(kha_32, cv2.COLOR_BGR2GRAY)\n",
        "k_gray = k_gray.astype(np.float32) / 255\n",
        "\n",
        "new_k = 255 * k_gray\n",
        "new_k = new_k.astype(np.uint8)\n",
        "\n",
        "new_k = np.expand_dims(new_k, axis=2)\n",
        "new_k = np.expand_dims(new_k, axis=0)\n",
        "new_k.shape"
      ],
      "execution_count": 0,
      "outputs": [
        {
          "output_type": "execute_result",
          "data": {
            "text/plain": [
              "(1, 32, 32, 1)"
            ]
          },
          "metadata": {
            "tags": []
          },
          "execution_count": 148
        }
      ]
    },
    {
      "cell_type": "code",
      "metadata": {
        "id": "xMgyEYCiKVaf",
        "colab_type": "code",
        "outputId": "24882524-97d0-4e40-e7f6-09c6591ad3b8",
        "colab": {
          "base_uri": "https://localhost:8080/",
          "height": 181
        }
      },
      "source": [
        "result = model.predict(new_k)\n",
        "aaa = np.argmax(result)\n",
        "print(aaa)\n",
        "print(result)"
      ],
      "execution_count": 0,
      "outputs": [
        {
          "output_type": "stream",
          "text": [
            "5\n",
            "[[0.01361321 0.01474762 0.02662008 0.03358022 0.01900312 0.05015089\n",
            "  0.03351942 0.0222077  0.02197923 0.02281881 0.01317115 0.01912225\n",
            "  0.01815574 0.03559048 0.0306079  0.01516538 0.03163676 0.02266014\n",
            "  0.02215047 0.02379479 0.03710931 0.02900336 0.01647825 0.0131467\n",
            "  0.01890858 0.02557321 0.02620881 0.01157352 0.01695974 0.01442065\n",
            "  0.03283546 0.01508141 0.00746293 0.01831875 0.03440929 0.0228332\n",
            "  0.01703442 0.02646711 0.01228994 0.00720987 0.01132543 0.01281688\n",
            "  0.01347868 0.02111515 0.0230978  0.02454618]]\n"
          ],
          "name": "stdout"
        }
      ]
    },
    {
      "cell_type": "code",
      "metadata": {
        "id": "jU2Z_N5VQHN8",
        "colab_type": "code",
        "outputId": "55c11ae6-e6d4-4d9e-a96b-2d312db566c5",
        "colab": {
          "base_uri": "https://localhost:8080/",
          "height": 35
        }
      },
      "source": [
        "model_json = model.to_json()\n",
        "with open(\"/content/drive/My Drive/Data Set/devnagari_model_94acc/model.json\", \"w\") as json_file:\n",
        "    json_file.write(model_json)\n",
        "# serialize weights to HDF5\n",
        "model.save_weights(\"/content/drive/My Drive/Data Set/devnagari_model_94acc/model_weights.h5\")\n",
        "print(\"Saved model to disk\")"
      ],
      "execution_count": 0,
      "outputs": [
        {
          "output_type": "stream",
          "text": [
            "Saved model to disk\n"
          ],
          "name": "stdout"
        }
      ]
    },
    {
      "cell_type": "markdown",
      "metadata": {
        "id": "BwDz9wJ7IOP2",
        "colab_type": "text"
      },
      "source": [
        "# New Section"
      ]
    },
    {
      "cell_type": "code",
      "metadata": {
        "id": "aSJRjMo0OpV4",
        "colab_type": "code",
        "colab": {}
      },
      "source": [
        ""
      ],
      "execution_count": 0,
      "outputs": []
    }
  ]
}